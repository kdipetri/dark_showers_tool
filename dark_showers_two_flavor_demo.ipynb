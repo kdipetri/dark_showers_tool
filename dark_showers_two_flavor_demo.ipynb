{
 "cells": [
  {
   "cell_type": "markdown",
   "metadata": {},
   "source": [
    "This notebook illustrates the features of the dark_showers_two_flavor.py package. The main utility is the routine which generates the pythia 8 configuration cards for the models described in arXiv 2303.04167. "
   ]
  },
  {
   "cell_type": "code",
   "execution_count": 1,
   "metadata": {},
   "outputs": [],
   "source": [
    "## make plots inline - for ipython notebooks\n",
    "%matplotlib inline\n",
    "\n",
    "import os\n",
    "import numpy as np\n",
    "import matplotlib.pyplot as plt\n",
    "from matplotlib import rc, rcParams, colors\n",
    "\n",
    "# Make use of TeX\\ufeff\n",
    "#rc('text',usetex=True)\n",
    "# Change all fonts to 'Computer Modern'\n",
    "rc('font',**{'size':16, 'family':'serif','serif':['Times New Roman']})\n",
    "\n",
    "\n",
    "# Change all fonts to 'Computer Modern'\n",
    "rc('font',**{'size':16, 'family':'serif','serif':['Times New Roman']})\n",
    "rc('xtick.major', size=5, pad=10)\n",
    "rc('xtick', labelsize=16)\n",
    "rc('ytick.major', size=5, pad=10)\n",
    "rc('ytick', labelsize=16)"
   ]
  },
  {
   "cell_type": "markdown",
   "metadata": {
    "tags": []
   },
   "source": [
    "# initializing the package"
   ]
  },
  {
   "cell_type": "markdown",
   "metadata": {},
   "source": [
    "Make sure dark_shower_two_flavor.py is in your python path. After we import the module, we create a dark shower object, which corresponds to a model point. To do this, we must give it \n",
    "* the pi_2 mass\n",
    "* the eta mass\n",
    "* the confinement scale\n",
    "* sin\\theta\n",
    "* the dark photon mass\n",
    "* the dark photon gauge coupling \n",
    "* the kinetic mixin parameter between the dark photon and the SM photon. \n",
    "\n",
    "For example:"
   ]
  },
  {
   "cell_type": "code",
   "execution_count": 2,
   "metadata": {},
   "outputs": [],
   "source": [
    "from dark_shower_two_flavor import dark_shower_two_flavor\n",
    "test=dark_shower_two_flavor(\n",
    "    m_pi2=2.2,\n",
    "    m_eta=5.0,\n",
    "    Lambda=4.0,\n",
    "    sin_theta=0.1,\n",
    "    mA=1.5,\n",
    "    g=0.1,\n",
    "    epsilon=5e-4)"
   ]
  },
  {
   "cell_type": "markdown",
   "metadata": {},
   "source": [
    "All other dependent quantities are calculated in the background. We can ask it to show the physical mass spectrum for this model point"
   ]
  },
  {
   "cell_type": "code",
   "execution_count": 3,
   "metadata": {},
   "outputs": [
    {
     "name": "stdout",
     "output_type": "stream",
     "text": [
      "\n",
      "##############################\n",
      "# meson/dark photon masses\n",
      "# m_pi1:    2.2  GeV\n",
      "# m_pi2:    2.2  GeV\n",
      "# m_pi3:    2.18  GeV\n",
      "# m_eta:    5.0  GeV\n",
      "# m_A:      1.5    GeV\n",
      "##############################\n"
     ]
    }
   ],
   "source": [
    "test.print_spectrum()"
   ]
  },
  {
   "cell_type": "markdown",
   "metadata": {},
   "source": [
    "Or show the physical mass spectrum + the underlying model parameters"
   ]
  },
  {
   "cell_type": "code",
   "execution_count": 4,
   "metadata": {},
   "outputs": [
    {
     "name": "stdout",
     "output_type": "stream",
     "text": [
      "\n",
      "##############################\n",
      "# meson/dark photon masses\n",
      "# m_pi1:     2.2  GeV\n",
      "# m_pi2:     2.2  GeV\n",
      "# m_pi3:     2.18  GeV\n",
      "# m_eta:     5.0  GeV\n",
      "# m_A:       1.5    GeV\n",
      "# other parameters\n",
      "# Nc:        3\n",
      "# Nf:        2\n",
      "# m quark 1: 0.544   GeV\n",
      "# m quark 2: 0.666   GeV\n",
      "# Lambda:    4.0   GeV\n",
      "# m0:        4.0   GeV\n",
      "# f:         0.318   GeV\n",
      "# v_dark:    15.0   GeV\n",
      "# g:         0.1\n",
      "# epsilon:   0.0005\n",
      "# y11:       0.00579\n",
      "# y12:       0.0571\n",
      "##############################\n"
     ]
    }
   ],
   "source": [
    "test.print_param()"
   ]
  },
  {
   "cell_type": "markdown",
   "metadata": {},
   "source": [
    "show the decay table"
   ]
  },
  {
   "cell_type": "code",
   "execution_count": 5,
   "metadata": {},
   "outputs": [
    {
     "name": "stdout",
     "output_type": "stream",
     "text": [
      "\n",
      "##############################\n",
      "# decay table\n",
      "# pi1:    stable\n",
      "# pi2:    stable\n",
      "# pi3:    stable\n",
      "# eta:    A' A'                    0.097\n",
      "#         pi2 A'                   0.903\n",
      "#         ctau = 5.48e-10 cm\n",
      "# A':     e+ e-                    0.269\n",
      "#         pi+ pi-                  0.0\n",
      "#         K+ K-                    0.0205\n",
      "#         pi+ pi- pi0              0.016\n",
      "#         pi+ pi- pi+ pi-          0.178\n",
      "#         pi+ pi- pi0 pi0          0.151\n",
      "#         mu+ mu-                  0.269\n",
      "#         tau+ tau-                0.0\n",
      "#         u ubar                   0.0\n",
      "#         c cbar                   0.0\n",
      "#         d dbar                   0.0\n",
      "#         s sbar                   0.0\n",
      "#         b bbar                   0.0\n",
      "#         ctau = 5.85e-06 cm\n",
      "############################## \n"
     ]
    }
   ],
   "source": [
    "test.print_decay_table()"
   ]
  },
  {
   "cell_type": "markdown",
   "metadata": {},
   "source": [
    "It is possible to update to a different model parameters without creating a new object"
   ]
  },
  {
   "cell_type": "code",
   "execution_count": 6,
   "metadata": {},
   "outputs": [
    {
     "name": "stdout",
     "output_type": "stream",
     "text": [
      "\n",
      "##############################\n",
      "# meson/dark photon masses\n",
      "# m_pi1:     1.27  GeV\n",
      "# m_pi2:     1.2  GeV\n",
      "# m_pi3:     1.19  GeV\n",
      "# m_eta:     5.0  GeV\n",
      "# m_A:       1.4    GeV\n",
      "# other parameters\n",
      "# Nc:        3\n",
      "# Nf:        2\n",
      "# m quark 1: 0.162   GeV\n",
      "# m quark 2: 0.198   GeV\n",
      "# Lambda:    4.0   GeV\n",
      "# m0:        4.0   GeV\n",
      "# f:         0.318   GeV\n",
      "# v_dark:    1.36   GeV\n",
      "# g:         1.0\n",
      "# epsilon:   0.05\n",
      "# y11:       0.019\n",
      "# y12:       0.187\n",
      "##############################\n",
      "\n",
      "##############################\n",
      "# decay table\n",
      "# pi1:    stable\n",
      "# pi2:    stable\n",
      "# pi3:    stable\n",
      "# eta:    pi1 pi1 pi3              0.5\n",
      "#         pi2 pi2 pi3              0.5\n",
      "#         ctau = 0.0 cm\n",
      "# A':     e+ e-                    0.287\n",
      "#         pi+ pi-                  0.0\n",
      "#         K+ K-                    0.0335\n",
      "#         pi+ pi- pi0              0.019\n",
      "#         pi+ pi- pi+ pi-          0.136\n",
      "#         pi+ pi- pi0 pi0          0.151\n",
      "#         mu+ mu-                  0.287\n",
      "#         tau+ tau-                0.0\n",
      "#         u ubar                   0.0\n",
      "#         c cbar                   0.0\n",
      "#         d dbar                   0.0\n",
      "#         s sbar                   0.0\n",
      "#         b bbar                   0.0\n",
      "#         ctau = 6.67e-10 cm\n",
      "############################## \n"
     ]
    }
   ],
   "source": [
    "test.update_params(\n",
    "    m_pi2=1.2,\n",
    "    m_eta=5.0,\n",
    "    Lambda=4.0,\n",
    "    sin_theta=0.1,\n",
    "    mA=1.4,\n",
    "    g=1,\n",
    "    epsilon=5e-2)\n",
    "\n",
    "test.print_param()\n",
    "test.print_decay_table()"
   ]
  },
  {
   "cell_type": "markdown",
   "metadata": {},
   "source": [
    "Common sense should be used when choosing parameters, though an effort was made to build in the necessary warning flags for when problematic parameter choices are being made. Some choices are fatal for the model, in which case the code is meant to crash. For example"
   ]
  },
  {
   "cell_type": "code",
   "execution_count": 7,
   "metadata": {},
   "outputs": [
    {
     "name": "stdout",
     "output_type": "stream",
     "text": [
      "Fatal error: mA too low. Please increase mA or decreasing g.\n"
     ]
    },
    {
     "ename": "SystemExit",
     "evalue": "",
     "output_type": "error",
     "traceback": [
      "An exception has occurred, use %tb to see the full traceback.\n",
      "\u001b[0;31mSystemExit\u001b[0m\n"
     ]
    },
    {
     "name": "stderr",
     "output_type": "stream",
     "text": [
      "/opt/anaconda3/lib/python3.7/site-packages/IPython/core/interactiveshell.py:3465: UserWarning: To exit: use 'exit', 'quit', or Ctrl-D.\n",
      "  warn(\"To exit: use 'exit', 'quit', or Ctrl-D.\", stacklevel=1)\n"
     ]
    }
   ],
   "source": [
    "test.update_params(\n",
    "    m_pi2=1.2,\n",
    "    m_eta=5.0,\n",
    "    Lambda=4.0,\n",
    "    sin_theta=0.1,\n",
    "    mA=0.1,\n",
    "    g=1,\n",
    "    epsilon=5e-2)\n",
    "test.print_param()"
   ]
  },
  {
   "cell_type": "markdown",
   "metadata": {},
   "source": [
    "While others lead to potentially uncontrolled uncertainties, either due to perturbativity of the dark quark Yukawa couplings or because the meson mass spectrum cannot be modeled very well with the current pythia implementation."
   ]
  },
  {
   "cell_type": "code",
   "execution_count": 8,
   "metadata": {},
   "outputs": [
    {
     "name": "stdout",
     "output_type": "stream",
     "text": [
      "Warning: pi1 and pi2 masses less degenerate than 10\\%. pi1 and pi2 are taken to be degenerate in the pythia cards.\n",
      "\n",
      "##############################\n",
      "# meson/dark photon masses\n",
      "# m_pi1:     3.27  GeV\n",
      "# m_pi2:     1.2  GeV\n",
      "# m_pi3:     1.19  GeV\n",
      "# m_eta:     5.0  GeV\n",
      "# m_A:       0.4    GeV\n",
      "# other parameters\n",
      "# Nc:        3\n",
      "# Nf:        2\n",
      "# m quark 1: 0.162   GeV\n",
      "# m quark 2: 0.198   GeV\n",
      "# Lambda:    4.0   GeV\n",
      "# m0:        4.0   GeV\n",
      "# f:         0.318   GeV\n",
      "# v_dark:    0.242   GeV\n",
      "# g:         1.0\n",
      "# epsilon:   0.05\n",
      "# y11:       0.107\n",
      "# y12:       1.05\n",
      "##############################\n",
      "---------------------\n",
      "Error: yukawas are too large. Please increase mA or decreasing g.\n",
      "Warning: yukawas are almost non-perturbative, proceed with caution. Can be addressed by increasing mA or decreasing g.\n",
      "Warning: pi1 and pi2 masses less degenerate than 10\\%. pi1 and pi2 are taken to be degenerate in the pythia cards.\n",
      "\n",
      "##############################\n",
      "# meson/dark photon masses\n",
      "# m_pi1:     399.0  GeV\n",
      "# m_pi2:     4.2  GeV\n",
      "# m_pi3:     4.16  GeV\n",
      "# m_eta:     5.0  GeV\n",
      "# m_A:       0.4    GeV\n",
      "# other parameters\n",
      "# Nc:        3\n",
      "# Nf:        2\n",
      "# m quark 1: 1.58   GeV\n",
      "# m quark 2: 1.94   GeV\n",
      "# Lambda:    5.0   GeV\n",
      "# m0:        5.0   GeV\n",
      "# f:         0.398   GeV\n",
      "# v_dark:    0.0411   GeV\n",
      "# g:         1.0\n",
      "# epsilon:   0.05\n",
      "# y11:       6.17\n",
      "# y12:       60.8\n",
      "##############################\n"
     ]
    }
   ],
   "source": [
    "test.update_params(\n",
    "    m_pi2=1.2,\n",
    "    m_eta=5.0,\n",
    "    Lambda=4.0,\n",
    "    sin_theta=0.1,\n",
    "    mA=0.4,\n",
    "    g=1,\n",
    "    epsilon=5e-2)\n",
    "test.print_param()\n",
    "print(\"---------------------\")\n",
    "test.update_params(\n",
    "    m_pi2=4.2,\n",
    "    m_eta=5.0,\n",
    "    Lambda=5.0,\n",
    "    sin_theta=0.1,\n",
    "    mA=0.4,\n",
    "    g=1,\n",
    "    epsilon=5e-2)\n",
    "test.print_param()"
   ]
  },
  {
   "cell_type": "markdown",
   "metadata": {},
   "source": [
    "# Lifetimes"
   ]
  },
  {
   "cell_type": "markdown",
   "metadata": {},
   "source": [
    "The code calculates the branching ratios lifetimes in the various scenarios. Here are examples for the decay topologies considered in the paper."
   ]
  },
  {
   "cell_type": "markdown",
   "metadata": {
    "tags": []
   },
   "source": [
    "## $\\pi_3 \\to A'A'$"
   ]
  },
  {
   "cell_type": "code",
   "execution_count": 9,
   "metadata": {},
   "outputs": [
    {
     "name": "stdout",
     "output_type": "stream",
     "text": [
      "\n",
      "##############################\n",
      "# decay table\n",
      "# pi1:    stable\n",
      "# pi2:    stable\n",
      "# pi3:    A' A'   1.0\n",
      "#         ctau = 1.8e-07 cm\n",
      "# eta:    A' A'                    0.214\n",
      "#         pi2 A'                   0.786\n",
      "#         ctau = 5.5e-11 cm\n",
      "# A':     e+ e-                    0.451\n",
      "#         pi+ pi-                  0.105\n",
      "#         K+ K-                    0.0\n",
      "#         pi+ pi- pi0              0.0\n",
      "#         pi+ pi- pi+ pi-          0.0\n",
      "#         pi+ pi- pi0 pi0          0.0\n",
      "#         mu+ mu-                  0.436\n",
      "#         tau+ tau-                0.0\n",
      "#         u ubar                   0.0\n",
      "#         c cbar                   0.0\n",
      "#         d dbar                   0.0\n",
      "#         s sbar                   0.0\n",
      "#         b bbar                   0.0\n",
      "#         ctau = 3.67e-05 cm\n",
      "############################## \n"
     ]
    }
   ],
   "source": [
    "test.update_params(\n",
    "        m_pi2=1,\n",
    "        m_eta=1.9,\n",
    "        Lambda=0.2*4.0*np.pi,\n",
    "        sin_theta=0.1,\n",
    "        mA=0.4,\n",
    "        g=np.sqrt(0.01*4*np.pi),\n",
    "        epsilon=5e-4)\n",
    "test.print_decay_table()"
   ]
  },
  {
   "cell_type": "markdown",
   "metadata": {
    "tags": []
   },
   "source": [
    "## $\\eta \\to \\pi_2 A'$"
   ]
  },
  {
   "cell_type": "code",
   "execution_count": 10,
   "metadata": {},
   "outputs": [
    {
     "name": "stdout",
     "output_type": "stream",
     "text": [
      "\n",
      "##############################\n",
      "# decay table\n",
      "# pi1:    stable\n",
      "# pi2:    stable\n",
      "# pi3:    stable\n",
      "# eta:    A' A'                    0.146\n",
      "#         pi2 A'                   0.854\n",
      "#         ctau = 8.05e-10 cm\n",
      "# A':     e+ e-                    0.387\n",
      "#         pi+ pi-                  0.221\n",
      "#         K+ K-                    0.0\n",
      "#         pi+ pi- pi0              0.00405\n",
      "#         pi+ pi- pi+ pi-          0.0\n",
      "#         pi+ pi- pi0 pi0          0.0\n",
      "#         mu+ mu-                  0.383\n",
      "#         tau+ tau-                0.0\n",
      "#         u ubar                   0.0\n",
      "#         c cbar                   0.0\n",
      "#         d dbar                   0.0\n",
      "#         s sbar                   0.0\n",
      "#         b bbar                   0.0\n",
      "#         ctau = 2.52e-05 cm\n",
      "############################## \n"
     ]
    }
   ],
   "source": [
    "test.update_params(\n",
    "        m_pi2=1.0,\n",
    "        m_eta=2,\n",
    "        Lambda=0.1*4.0*np.pi,\n",
    "        sin_theta=0.1,\n",
    "        mA=0.5,\n",
    "        g=np.sqrt(0.001*4*np.pi),\n",
    "        epsilon=5e-4)\n",
    "test.print_decay_table()"
   ]
  },
  {
   "cell_type": "markdown",
   "metadata": {
    "tags": []
   },
   "source": [
    "## $\\eta \\to \\pi_2 f f$"
   ]
  },
  {
   "cell_type": "code",
   "execution_count": 11,
   "metadata": {},
   "outputs": [
    {
     "name": "stderr",
     "output_type": "stream",
     "text": [
      "/Users/knapen/Documents/work/projects/LHC_stuff/dark_showers/public_tool/dark_shower_two_flavor.py:315: IntegrationWarning: The maximum number of subdivisions (50) has been achieved.\n",
      "  If increasing the limit yields no improvement it is advised to analyze \n",
      "  the integrand in order to determine the difficulties.  If the position of a \n",
      "  local difficulty can be determined (singularity, discontinuity) one will \n",
      "  probably gain from splitting up the interval and calling the integrator \n",
      "  on the subranges.  Perhaps a special-purpose integrator should be used.\n",
      "  pwidth=prefactor*integrate.quad((lambda x: dfdx(x)*self.branching_ratios[Ap_channel](np.sqrt(self.m_eta**2*x))/self.branching_ratios[\"e+ e-\"](np.sqrt(self.m_eta**2*x))), xstart, xend)[0]\n"
     ]
    }
   ],
   "source": [
    "ctaulist_0p6=[]\n",
    "ctaulist_0p5=[]\n",
    "ctaulist_0p4=[]\n",
    "\n",
    "brlist_0p6=[]\n",
    "brlist_0p5=[]\n",
    "brlist_0p4=[]\n",
    "\n",
    "mlist=np.linspace(1.0,10.0,50)\n",
    "for m in mlist:\n",
    "    test.update_params(\n",
    "        m_pi2=0.6*m,\n",
    "        m_eta=m,\n",
    "        Lambda=m,\n",
    "        sin_theta=0.1,\n",
    "        mA=m,\n",
    "        g=1,\n",
    "        epsilon=5e-4)\n",
    "    ctaulist_0p6.append(test.eta_ctau)\n",
    "    brlist_0p6.append(test.eta_branching_ratios[\"pi2 mu+ mu-\"])\n",
    "\n",
    "mlist=np.linspace(1.0,10.0,50)\n",
    "for m in mlist:\n",
    "    test.update_params(\n",
    "        m_pi2=0.5*m,\n",
    "        m_eta=m,\n",
    "        Lambda=m,\n",
    "        sin_theta=0.1,\n",
    "        mA=m,\n",
    "        g=1,\n",
    "        epsilon=5e-4)\n",
    "    ctaulist_0p5.append(test.eta_ctau)\n",
    "    brlist_0p5.append(test.eta_branching_ratios[\"pi2 mu+ mu-\"])\n",
    "    \n",
    "mlist=np.linspace(1.0,10.0,50)\n",
    "for m in mlist:\n",
    "    test.update_params(\n",
    "        m_pi2=0.4*m,\n",
    "        m_eta=m,\n",
    "        Lambda=m,\n",
    "        sin_theta=0.1,\n",
    "        mA=m,\n",
    "        g=1,\n",
    "        epsilon=5e-4)\n",
    "    ctaulist_0p4.append(test.eta_ctau)\n",
    "    brlist_0p4.append(test.eta_branching_ratios[\"pi2 mu+ mu-\"])"
   ]
  },
  {
   "cell_type": "code",
   "execution_count": 12,
   "metadata": {},
   "outputs": [
    {
     "name": "stderr",
     "output_type": "stream",
     "text": [
      "/opt/anaconda3/lib/python3.7/site-packages/ipykernel_launcher.py:24: UserWarning: Tight layout not applied. The left and right margins cannot be made large enough to accommodate all axes decorations.\n"
     ]
    },
    {
     "ename": "NameError",
     "evalue": "name 'draftdir' is not defined",
     "output_type": "error",
     "traceback": [
      "\u001b[0;31m---------------------------------------------------------------------------\u001b[0m",
      "\u001b[0;31mNameError\u001b[0m                                 Traceback (most recent call last)",
      "\u001b[0;32m/var/folders/hg/lpnfb7jn1t98w63dqw55rs380000gp/T/ipykernel_67512/2231240998.py\u001b[0m in \u001b[0;36m<module>\u001b[0;34m\u001b[0m\n\u001b[1;32m     24\u001b[0m \u001b[0mfig\u001b[0m\u001b[0;34m.\u001b[0m\u001b[0mtight_layout\u001b[0m\u001b[0;34m(\u001b[0m\u001b[0;34m)\u001b[0m\u001b[0;34m\u001b[0m\u001b[0;34m\u001b[0m\u001b[0m\n\u001b[1;32m     25\u001b[0m \u001b[0mfig\u001b[0m\u001b[0;34m.\u001b[0m\u001b[0msubplots_adjust\u001b[0m\u001b[0;34m(\u001b[0m\u001b[0mhspace\u001b[0m\u001b[0;34m=\u001b[0m\u001b[0;36m0\u001b[0m\u001b[0;34m)\u001b[0m\u001b[0;34m\u001b[0m\u001b[0;34m\u001b[0m\u001b[0m\n\u001b[0;32m---> 26\u001b[0;31m \u001b[0mfig\u001b[0m\u001b[0;34m.\u001b[0m\u001b[0msavefig\u001b[0m\u001b[0;34m(\u001b[0m\u001b[0mdraftdir\u001b[0m\u001b[0;34m+\u001b[0m\u001b[0;34m\"eta_to_pimumu.pdf\"\u001b[0m\u001b[0;34m)\u001b[0m\u001b[0;34m\u001b[0m\u001b[0;34m\u001b[0m\u001b[0m\n\u001b[0m",
      "\u001b[0;31mNameError\u001b[0m: name 'draftdir' is not defined"
     ]
    },
    {
     "data": {
      "image/png": "[encoded data removed]",
      "text/plain": [
       "<Figure size 640x480 with 2 Axes>"
      ]
     },
     "metadata": {},
     "output_type": "display_data"
    }
   ],
   "source": [
    "fig, axs = plt.subplots(2, 1,sharex=True)\n",
    "axs[0].plot(mlist,ctaulist_0p6,label=r\"$m_{\\pi_2}/m_\\eta=0.6$\",color=\"indianred\")\n",
    "axs[0].plot(mlist,ctaulist_0p5,label=r\"$m_{\\pi_2}/m_\\eta=0.5$\",color=\"goldenrod\")\n",
    "axs[0].plot(mlist,ctaulist_0p4,label=r\"$m_{\\pi_2}/m_\\eta=0.4$\",color=\"forestgreen\")\n",
    "axs[0].set_yscale(\"log\")\n",
    "axs[0].set_ylim([3e-1,8e1])\n",
    "\n",
    "\n",
    "axs[1].plot(mlist,brlist_0p6,label=r\"$m_{\\pi_2}/m_\\eta=0.6$\",color=\"indianred\")\n",
    "axs[1].plot(mlist,brlist_0p5,label=r\"$m_{\\pi_2}/m_\\eta=0.5$\",color=\"goldenrod\")\n",
    "axs[1].plot(mlist,brlist_0p4,label=r\"$m_{\\pi_2}/m_\\eta=0.4$\",color=\"forestgreen\")\n",
    "axs[1].set_ylim([0.2,0.4])\n",
    "axs[1].set_xlim([1,10])\n",
    "\n",
    "axs[0].legend(fontsize=11,labelspacing=0.3,ncol=3,handlelength=0.5)\n",
    "axs[1].text(6.9,0.37,r\"\\noindent$m_{A'}=m_{\\eta}=\\Lambda=4\\pi f$\\\\$g=1$\\\\$\\sin\\theta=0.1$\\\\$\\epsilon=5\\times 10^{-4}$\",fontsize=13,\n",
    "            horizontalalignment=\"left\", bbox=dict(edgecolor='gray',facecolor='none', alpha=0.5))\n",
    "\n",
    "axs[1].set_xlabel(\"$m_\\eta$ (GeV)\",fontsize=16)\n",
    "axs[0].set_ylabel(r\"$c\\tau$ (cm)\",fontsize=16)\n",
    "axs[1].set_ylabel(r\"$\\mathrm{Br}(\\eta \\to \\pi_2 \\mu^+\\mu^-)$\",fontsize=15)\n",
    "\n",
    "\n",
    "fig.tight_layout()\n",
    "fig.subplots_adjust(hspace=0)\n",
    "fig.savefig(draftdir+\"eta_to_pimumu.pdf\")\n"
   ]
  },
  {
   "cell_type": "markdown",
   "metadata": {
    "tags": []
   },
   "source": [
    "# Decay cards"
   ]
  },
  {
   "cell_type": "markdown",
   "metadata": {},
   "source": [
    "Finally, the package can print out pythia configuration cards for the model point. The file name and path is passed as an argument to this function. Here is an example for each of the three scenarios considered in the paper."
   ]
  },
  {
   "cell_type": "code",
   "execution_count": 13,
   "metadata": {},
   "outputs": [],
   "source": [
    "scenarioA=dark_shower_two_flavor(\n",
    "    m_pi2=1.2,\n",
    "    m_eta=5.0,\n",
    "    Lambda=4.0,\n",
    "    sin_theta=0.1,\n",
    "    mA=0.5,\n",
    "    g=0.1,\n",
    "    epsilon=5e-4)\n",
    "scenarioA.pythia_card(os.getcwd()+\"/cards/test_scenarioA.cmnd\")\n",
    "\n",
    "scenarioB1=dark_shower_two_flavor(\n",
    "    m_pi2=3.2,\n",
    "    m_eta=5.0,\n",
    "    Lambda=4.0,\n",
    "    sin_theta=0.1,\n",
    "    mA=1.5,\n",
    "    g=0.1,\n",
    "    epsilon=5e-4)\n",
    "scenarioB1.pythia_card(os.getcwd()+\"/cards/test_scenarioB1.cmnd\")\n",
    "\n",
    "scenarioB2=dark_shower_two_flavor(\n",
    "    m_pi2=2.2,\n",
    "    m_eta=5.0,\n",
    "    Lambda=4.0,\n",
    "    sin_theta=0.1,\n",
    "    mA=1.5,\n",
    "    g=0.1,\n",
    "    epsilon=5e-4)\n",
    "scenarioB2.pythia_card(os.getcwd()+\"/cards/test_scenarioB2.cmnd\")\n",
    "\n",
    "\n",
    "scenarioC=dark_shower_two_flavor(\n",
    "    m_pi2=2.2,\n",
    "    m_eta=5.0,\n",
    "    Lambda=4.0,\n",
    "    sin_theta=0.1,\n",
    "    mA=5,\n",
    "    g=1,\n",
    "    epsilon=5e-4)\n",
    "scenarioC.pythia_card(os.getcwd()+\"/cards/test_scenarioC.cmnd\")"
   ]
  },
  {
   "cell_type": "code",
   "execution_count": null,
   "metadata": {},
   "outputs": [],
   "source": []
  }
 ],
 "metadata": {
  "kernelspec": {
   "display_name": "Python 3 (ipykernel)",
   "language": "python",
   "name": "python3"
  },
  "language_info": {
   "codemirror_mode": {
    "name": "ipython",
    "version": 3
   },
   "file_extension": ".py",
   "mimetype": "text/x-python",
   "name": "python",
   "nbconvert_exporter": "python",
   "pygments_lexer": "ipython3",
   "version": "3.7.6"
  }
 },
 "nbformat": 4,
 "nbformat_minor": 4
}
